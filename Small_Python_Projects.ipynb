{
  "nbformat": 4,
  "nbformat_minor": 0,
  "metadata": {
    "colab": {
      "provenance": []
    },
    "kernelspec": {
      "name": "python3",
      "display_name": "Python 3"
    },
    "language_info": {
      "name": "python"
    }
  },
  "cells": [
    {
      "cell_type": "markdown",
      "source": [
        "## Email_Slicing using python"
      ],
      "metadata": {
        "id": "49NrVq2uDQbW"
      }
    },
    {
      "cell_type": "code",
      "source": [
        "email = input(\"Enter Your Email: \").strip()"
      ],
      "metadata": {
        "colab": {
          "base_uri": "https://localhost:8080/"
        },
        "id": "asV_X0L9AqDi",
        "outputId": "f8254ef7-ae4d-4931-bec6-c90ab7c76e67"
      },
      "execution_count": 1,
      "outputs": [
        {
          "name": "stdout",
          "output_type": "stream",
          "text": [
            "Enter Your Email: abbin@nbv.com\n"
          ]
        }
      ]
    },
    {
      "cell_type": "code",
      "source": [
        "username = email[:email.index('@')]\n",
        "domain = email[email.index('@') + 1:]"
      ],
      "metadata": {
        "id": "5pAfkb5OAzmF"
      },
      "execution_count": 2,
      "outputs": []
    },
    {
      "cell_type": "code",
      "source": [
        "print(f\"Your username is {username} & domain is {domain}\")"
      ],
      "metadata": {
        "colab": {
          "base_uri": "https://localhost:8080/"
        },
        "id": "qgwn8Ul2A-ZF",
        "outputId": "cf0230be-f2bb-46f2-c284-8a630d1c5524"
      },
      "execution_count": 3,
      "outputs": [
        {
          "output_type": "stream",
          "name": "stdout",
          "text": [
            "Your username is abbin & domain is nbv.com\n"
          ]
        }
      ]
    },
    {
      "cell_type": "markdown",
      "source": [
        "## Creating Random Password Generator using Python"
      ],
      "metadata": {
        "id": "AHMim3CBDZrk"
      }
    },
    {
      "cell_type": "code",
      "source": [
        "import random\n",
        "import array"
      ],
      "metadata": {
        "id": "2fmXXVxMDfK-"
      },
      "execution_count": 21,
      "outputs": []
    },
    {
      "cell_type": "code",
      "source": [
        "MAX_LEN = 16\n",
        "DIGITS = ['0', '1', '2', '3', '4', '5', '6', '7', '8', '9'] \n",
        "LOWERCASE_CHARACTERS = ['a', 'b', 'c', 'd', 'e', 'f', 'g', 'h',\n",
        "                     'i', 'j', 'k', 'm', 'n', 'o', 'p', 'q',\n",
        "                     'r', 's', 't', 'u', 'v', 'w', 'x', 'y',\n",
        "                     'z']\n",
        " \n",
        "UPPERCASE_CHARACTERS = ['A', 'B', 'C', 'D', 'E', 'F', 'G', 'H',\n",
        "                     'I', 'J', 'K', 'M', 'N', 'O', 'P', 'Q',\n",
        "                     'R', 'S', 'T', 'U', 'V', 'W', 'X', 'Y',\n",
        "                     'Z']\n",
        " \n",
        "SYMBOLS = ['@', '#', '$', '%', '=', ':', '?', '.', '/', '|', '~', '>',\n",
        "           '*', '(', ')', '<']"
      ],
      "metadata": {
        "id": "pKZYDLeVDkxi"
      },
      "execution_count": 22,
      "outputs": []
    },
    {
      "cell_type": "code",
      "source": [
        "COMBINED_LIST = DIGITS + UPPERCASE_CHARACTERS + LOWERCASE_CHARACTERS + SYMBOLS"
      ],
      "metadata": {
        "id": "WKigEgzuDqZm"
      },
      "execution_count": 23,
      "outputs": []
    },
    {
      "cell_type": "code",
      "source": [
        "rand_digit = random.choice(DIGITS)\n",
        "rand_upper = random.choice(UPPERCASE_CHARACTERS)\n",
        "rand_lower = random.choice(LOWERCASE_CHARACTERS)\n",
        "rand_symbol = random.choice(SYMBOLS)"
      ],
      "metadata": {
        "id": "bYA8BX_hDuK-"
      },
      "execution_count": 24,
      "outputs": []
    },
    {
      "cell_type": "code",
      "source": [
        "temp_pass = rand_digit + rand_upper + rand_lower + rand_symbol"
      ],
      "metadata": {
        "id": "-5JKuyvXDzDQ"
      },
      "execution_count": 25,
      "outputs": []
    },
    {
      "cell_type": "code",
      "source": [
        "for x in range(MAX_LEN - 4):\n",
        "    temp_pass = temp_pass + random.choice(COMBINED_LIST)\n",
        "    temp_pass_list = array.array('u', temp_pass)\n",
        "    random.shuffle(temp_pass_list)"
      ],
      "metadata": {
        "id": "QnoArMgAD1B-"
      },
      "execution_count": 26,
      "outputs": []
    },
    {
      "cell_type": "code",
      "source": [
        "password = \"\"\n",
        "for x in temp_pass_list:\n",
        "        password = password + x"
      ],
      "metadata": {
        "id": "QUASuJ5MD8QQ"
      },
      "execution_count": 27,
      "outputs": []
    },
    {
      "cell_type": "code",
      "source": [
        "print(password)"
      ],
      "metadata": {
        "colab": {
          "base_uri": "https://localhost:8080/"
        },
        "id": "nXnDCMlZD-7x",
        "outputId": "ba6d842d-8aaf-4a64-8acf-1dad3043ef03"
      },
      "execution_count": 28,
      "outputs": [
        {
          "output_type": "stream",
          "name": "stdout",
          "text": [
            "v2*HQggA8zsP6)16\n"
          ]
        }
      ]
    }
  ]
}